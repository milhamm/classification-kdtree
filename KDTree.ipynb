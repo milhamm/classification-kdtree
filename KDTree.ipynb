{
 "cells": [
  {
   "cell_type": "code",
   "execution_count": 1,
   "metadata": {},
   "outputs": [],
   "source": [
    "import heapq\n",
    "import pandas as pd\n",
    "import numpy as np\n",
    "from collections import Counter\n",
    "from sklearn.model_selection import train_test_split\n",
    "from sklearn.metrics import accuracy_score"
   ]
  },
  {
   "cell_type": "code",
   "execution_count": 2,
   "metadata": {},
   "outputs": [],
   "source": [
    "data = pd.read_csv(\"dataset.csv\")"
   ]
  },
  {
   "cell_type": "code",
   "execution_count": 3,
   "metadata": {},
   "outputs": [],
   "source": [
    "X = data.drop(columns=[\"Tertarik\"])\n",
    "y = data[[\"Tertarik\"]]\n",
    "X_train, X_test, y_train, y_test = train_test_split(X, y, test_size = 0.2)"
   ]
  },
  {
   "cell_type": "code",
   "execution_count": 4,
   "metadata": {},
   "outputs": [],
   "source": [
    "class KDNode:\n",
    "    def __init__(self, points, y, left = None, right = None, distance = np.inf):\n",
    "        self.points = points\n",
    "        self.y = y\n",
    "        self.left = left\n",
    "        self.right = right\n",
    "        self.distance = distance\n",
    "    def __lt__(self, other):\n",
    "        return self.distance < other.distance"
   ]
  },
  {
   "cell_type": "code",
   "execution_count": 5,
   "metadata": {},
   "outputs": [],
   "source": [
    "class KDTree:\n",
    "    def __init__(self, k = 2, p = 2):\n",
    "        self.tree = None\n",
    "        self.k = k\n",
    "        self.p = p\n",
    "    \n",
    "    def fit(self, X, y):\n",
    "        self.X = X\n",
    "        self.y = y\n",
    "\n",
    "        if isinstance(X, pd.DataFrame):\n",
    "            X = X.values\n",
    "        \n",
    "        if isinstance(y, pd.DataFrame):\n",
    "            y = y.values\n",
    "\n",
    "        self.tree = self._construct_tree(np.array(X), np.array(y).reshape(-1), 0)\n",
    "    \n",
    "    def _construct_tree(self, points, y, depth):\n",
    "        if len(points) == 0:\n",
    "            return None\n",
    "        \n",
    "        k = len(points[0])\n",
    "        axis = depth % k\n",
    "        \n",
    "        sort_by_axis = np.argsort(points[:, axis])\n",
    "        sorted_points = points[sort_by_axis]\n",
    "        sorted_y =  y[sort_by_axis]\n",
    "        mid = len(sorted_points) // 2\n",
    "      \n",
    "        return KDNode(\n",
    "            sorted_points[mid],\n",
    "            sorted_y[mid],\n",
    "            self._construct_tree(sorted_points[:mid], sorted_y[:mid], depth + 1),\n",
    "            self._construct_tree(sorted_points[mid + 1:],sorted_y[mid + 1:], depth + 1)\n",
    "        )\n",
    "  \n",
    "    def _knn_search(self, query_point):\n",
    "        k = len(query_point)\n",
    "        heap = []\n",
    "        \n",
    "        def search(node, depth):\n",
    "            if node == None:\n",
    "                return\n",
    "\n",
    "            nonlocal heap\n",
    "            \n",
    "            d = np.linalg.norm(query_point - node.points, ord = self.p)\n",
    "            node.distance = -d\n",
    "\n",
    "            if len(heap) < self.k:\n",
    "                heapq.heappush(heap, node)\n",
    "            else:\n",
    "                heapq.heappushpop(heap, node)\n",
    "\n",
    "            axis = depth % k\n",
    "\n",
    "            if query_point[axis] < node.points[axis]:\n",
    "                close, other = node.left, node.right\n",
    "            else:\n",
    "                close, other = node.right, node.left\n",
    "\n",
    "            search(close, depth + 1)\n",
    "\n",
    "            delta = abs(query_point[axis] - node.points[axis])\n",
    "            nearest = abs(heap[0].distance)\n",
    "\n",
    "            if len(heap) < self.k or delta < nearest:\n",
    "                search(other, depth + 1)\n",
    "\n",
    "        search(self.tree, 0)\n",
    "        return heap\n",
    "\n",
    "    def predict(self, X_test):\n",
    "        results = []\n",
    "        if isinstance(X_test, pd.DataFrame):\n",
    "            X_test = X_test.values\n",
    "            \n",
    "        for test in X_test:\n",
    "            result = self._knn_search(test)\n",
    "            predict_values = [item.y for item in result]\n",
    "            counter = Counter(predict_values)\n",
    "            results.append(counter.most_common(1)[0][0])\n",
    "            \n",
    "        return results"
   ]
  },
  {
   "cell_type": "code",
   "execution_count": 6,
   "metadata": {},
   "outputs": [],
   "source": [
    "kdtree = KDTree(k = 2)\n",
    "kdtree.fit(X_train, y_train)"
   ]
  },
  {
   "cell_type": "code",
   "execution_count": 7,
   "metadata": {},
   "outputs": [],
   "source": [
    "y_pred = kdtree.predict(X_test)"
   ]
  },
  {
   "cell_type": "code",
   "execution_count": 8,
   "metadata": {},
   "outputs": [
    {
     "name": "stdout",
     "output_type": "stream",
     "text": [
      "Accuracy: 89.61%\n"
     ]
    }
   ],
   "source": [
    "precision = accuracy_score(y_pred, y_test) * 100\n",
    "print(\"Accuracy: {0:.2f}%\".format(precision))"
   ]
  },
  {
   "cell_type": "code",
   "execution_count": null,
   "metadata": {},
   "outputs": [],
   "source": [
    "from sklearn.neighbors import KNeighborsClassifier\n",
    "\n",
    "kdtree2 = KNeighborsClassifier(n_neighbors = 2)\n",
    "kdtree2.fit(X_train, y_train)\n",
    "y_pred2 = kdtree2.predict(X_test)"
   ]
  },
  {
   "cell_type": "code",
   "execution_count": 11,
   "metadata": {},
   "outputs": [
    {
     "name": "stdout",
     "output_type": "stream",
     "text": [
      "Accuracy: 89.61%\n"
     ]
    }
   ],
   "source": [
    "precision2 = accuracy_score(y_pred, y_test) * 100\n",
    "print(\"Accuracy: {0:.2f}%\".format(precision2))"
   ]
  },
  {
   "cell_type": "code",
   "execution_count": null,
   "metadata": {},
   "outputs": [],
   "source": []
  }
 ],
 "metadata": {
  "interpreter": {
   "hash": "1ef2aa9c3263e35572280c43a636090afbda352cb7456d858433bc6d0518c73c"
  },
  "kernelspec": {
   "display_name": "Python 3.9.0 64-bit",
   "language": "python",
   "name": "python3"
  },
  "language_info": {
   "codemirror_mode": {
    "name": "ipython",
    "version": 3
   },
   "file_extension": ".py",
   "mimetype": "text/x-python",
   "name": "python",
   "nbconvert_exporter": "python",
   "pygments_lexer": "ipython3",
   "version": "3.9.0"
  },
  "orig_nbformat": 4
 },
 "nbformat": 4,
 "nbformat_minor": 2
}
